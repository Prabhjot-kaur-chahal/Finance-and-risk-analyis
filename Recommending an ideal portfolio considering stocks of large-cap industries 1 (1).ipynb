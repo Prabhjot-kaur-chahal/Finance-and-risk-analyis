{
 "cells": [
  {
   "cell_type": "code",
   "execution_count": 1,
   "id": "b5b0c618",
   "metadata": {},
   "outputs": [],
   "source": [
    "import numpy as np\n",
    "import matplotlib.pyplot as plt\n",
    "import pandas as pd\n",
    "import seaborn as sns\n",
    "color = sns.color_palette()\n",
    "import sklearn.metrics as metrics\n",
    "\n",
    "import warnings\n",
    "warnings.filterwarnings(\"ignore\")"
   ]
  },
  {
   "cell_type": "code",
   "execution_count": 2,
   "id": "1bfefc2c",
   "metadata": {},
   "outputs": [],
   "source": [
    "import os"
   ]
  },
  {
   "cell_type": "code",
   "execution_count": 3,
   "id": "d01ef6d3",
   "metadata": {},
   "outputs": [],
   "source": [
    "os.chdir(\"C:\\\\Users\\\\shiva\\\\Downloads\")"
   ]
  },
  {
   "cell_type": "code",
   "execution_count": 4,
   "id": "e0bd4b93",
   "metadata": {},
   "outputs": [],
   "source": [
    "df=pd.read_csv(\"Market+Risk+Dataset.csv\")"
   ]
  },
  {
   "cell_type": "code",
   "execution_count": 5,
   "id": "a42d2c93",
   "metadata": {},
   "outputs": [
    {
     "data": {
      "text/html": [
       "<div>\n",
       "<style scoped>\n",
       "    .dataframe tbody tr th:only-of-type {\n",
       "        vertical-align: middle;\n",
       "    }\n",
       "\n",
       "    .dataframe tbody tr th {\n",
       "        vertical-align: top;\n",
       "    }\n",
       "\n",
       "    .dataframe thead th {\n",
       "        text-align: right;\n",
       "    }\n",
       "</style>\n",
       "<table border=\"1\" class=\"dataframe\">\n",
       "  <thead>\n",
       "    <tr style=\"text-align: right;\">\n",
       "      <th></th>\n",
       "      <th>Date</th>\n",
       "      <th>Infosys</th>\n",
       "      <th>Indian Hotel</th>\n",
       "      <th>Mahindra &amp; Mahindra</th>\n",
       "      <th>Axis Bank</th>\n",
       "      <th>SAIL</th>\n",
       "      <th>Shree Cement</th>\n",
       "      <th>Sun Pharma</th>\n",
       "      <th>Jindal Steel</th>\n",
       "      <th>Idea Vodafone</th>\n",
       "      <th>Jet Airways</th>\n",
       "    </tr>\n",
       "  </thead>\n",
       "  <tbody>\n",
       "    <tr>\n",
       "      <th>0</th>\n",
       "      <td>31-03-2014</td>\n",
       "      <td>264</td>\n",
       "      <td>69</td>\n",
       "      <td>455</td>\n",
       "      <td>263</td>\n",
       "      <td>68</td>\n",
       "      <td>5543</td>\n",
       "      <td>555</td>\n",
       "      <td>298</td>\n",
       "      <td>83</td>\n",
       "      <td>278</td>\n",
       "    </tr>\n",
       "    <tr>\n",
       "      <th>1</th>\n",
       "      <td>07-04-2014</td>\n",
       "      <td>257</td>\n",
       "      <td>68</td>\n",
       "      <td>458</td>\n",
       "      <td>276</td>\n",
       "      <td>70</td>\n",
       "      <td>5728</td>\n",
       "      <td>610</td>\n",
       "      <td>279</td>\n",
       "      <td>84</td>\n",
       "      <td>303</td>\n",
       "    </tr>\n",
       "    <tr>\n",
       "      <th>2</th>\n",
       "      <td>14-04-2014</td>\n",
       "      <td>254</td>\n",
       "      <td>68</td>\n",
       "      <td>454</td>\n",
       "      <td>270</td>\n",
       "      <td>68</td>\n",
       "      <td>5649</td>\n",
       "      <td>607</td>\n",
       "      <td>279</td>\n",
       "      <td>83</td>\n",
       "      <td>280</td>\n",
       "    </tr>\n",
       "    <tr>\n",
       "      <th>3</th>\n",
       "      <td>21-04-2014</td>\n",
       "      <td>253</td>\n",
       "      <td>68</td>\n",
       "      <td>488</td>\n",
       "      <td>283</td>\n",
       "      <td>68</td>\n",
       "      <td>5692</td>\n",
       "      <td>604</td>\n",
       "      <td>274</td>\n",
       "      <td>83</td>\n",
       "      <td>282</td>\n",
       "    </tr>\n",
       "    <tr>\n",
       "      <th>4</th>\n",
       "      <td>28-04-2014</td>\n",
       "      <td>256</td>\n",
       "      <td>65</td>\n",
       "      <td>482</td>\n",
       "      <td>282</td>\n",
       "      <td>63</td>\n",
       "      <td>5582</td>\n",
       "      <td>611</td>\n",
       "      <td>238</td>\n",
       "      <td>79</td>\n",
       "      <td>243</td>\n",
       "    </tr>\n",
       "  </tbody>\n",
       "</table>\n",
       "</div>"
      ],
      "text/plain": [
       "         Date  Infosys  Indian Hotel  Mahindra & Mahindra  Axis Bank  SAIL  \\\n",
       "0  31-03-2014      264            69                  455        263    68   \n",
       "1  07-04-2014      257            68                  458        276    70   \n",
       "2  14-04-2014      254            68                  454        270    68   \n",
       "3  21-04-2014      253            68                  488        283    68   \n",
       "4  28-04-2014      256            65                  482        282    63   \n",
       "\n",
       "   Shree Cement  Sun Pharma  Jindal Steel  Idea Vodafone  Jet Airways  \n",
       "0          5543         555           298             83          278  \n",
       "1          5728         610           279             84          303  \n",
       "2          5649         607           279             83          280  \n",
       "3          5692         604           274             83          282  \n",
       "4          5582         611           238             79          243  "
      ]
     },
     "execution_count": 5,
     "metadata": {},
     "output_type": "execute_result"
    }
   ],
   "source": [
    "df.head()"
   ]
  },
  {
   "cell_type": "code",
   "execution_count": 6,
   "id": "415b0bca",
   "metadata": {},
   "outputs": [],
   "source": [
    "df.columns = df.columns.str.replace(' ', '_').str.replace('.', '')"
   ]
  },
  {
   "cell_type": "code",
   "execution_count": 7,
   "id": "19b6ec56",
   "metadata": {},
   "outputs": [
    {
     "name": "stdout",
     "output_type": "stream",
     "text": [
      "The number of rows (observations) is 314 \n",
      "The number of columns (variables) is 11\n"
     ]
    }
   ],
   "source": [
    "print('The number of rows (observations) is',df.shape[0],'\\n''The number of columns (variables) is',df.shape[1])"
   ]
  },
  {
   "cell_type": "code",
   "execution_count": 8,
   "id": "669ba320",
   "metadata": {},
   "outputs": [
    {
     "name": "stdout",
     "output_type": "stream",
     "text": [
      "<class 'pandas.core.frame.DataFrame'>\n",
      "RangeIndex: 314 entries, 0 to 313\n",
      "Data columns (total 11 columns):\n",
      " #   Column               Non-Null Count  Dtype \n",
      "---  ------               --------------  ----- \n",
      " 0   Date                 314 non-null    object\n",
      " 1   Infosys              314 non-null    int64 \n",
      " 2   Indian_Hotel         314 non-null    int64 \n",
      " 3   Mahindra_&_Mahindra  314 non-null    int64 \n",
      " 4   Axis_Bank            314 non-null    int64 \n",
      " 5   SAIL                 314 non-null    int64 \n",
      " 6   Shree_Cement         314 non-null    int64 \n",
      " 7   Sun_Pharma           314 non-null    int64 \n",
      " 8   Jindal_Steel         314 non-null    int64 \n",
      " 9   Idea_Vodafone        314 non-null    int64 \n",
      " 10  Jet_Airways          314 non-null    int64 \n",
      "dtypes: int64(10), object(1)\n",
      "memory usage: 27.1+ KB\n"
     ]
    }
   ],
   "source": [
    "df.info()"
   ]
  },
  {
   "cell_type": "code",
   "execution_count": 9,
   "id": "f420e058",
   "metadata": {},
   "outputs": [
    {
     "data": {
      "text/html": [
       "<div>\n",
       "<style scoped>\n",
       "    .dataframe tbody tr th:only-of-type {\n",
       "        vertical-align: middle;\n",
       "    }\n",
       "\n",
       "    .dataframe tbody tr th {\n",
       "        vertical-align: top;\n",
       "    }\n",
       "\n",
       "    .dataframe thead th {\n",
       "        text-align: right;\n",
       "    }\n",
       "</style>\n",
       "<table border=\"1\" class=\"dataframe\">\n",
       "  <thead>\n",
       "    <tr style=\"text-align: right;\">\n",
       "      <th></th>\n",
       "      <th>Date</th>\n",
       "      <th>Infosys</th>\n",
       "      <th>Indian_Hotel</th>\n",
       "      <th>Mahindra_&amp;_Mahindra</th>\n",
       "      <th>Axis_Bank</th>\n",
       "      <th>SAIL</th>\n",
       "      <th>Shree_Cement</th>\n",
       "      <th>Sun_Pharma</th>\n",
       "      <th>Jindal_Steel</th>\n",
       "      <th>Idea_Vodafone</th>\n",
       "      <th>Jet_Airways</th>\n",
       "    </tr>\n",
       "  </thead>\n",
       "  <tbody>\n",
       "    <tr>\n",
       "      <th>0</th>\n",
       "      <td>31-03-2014</td>\n",
       "      <td>264</td>\n",
       "      <td>69</td>\n",
       "      <td>455</td>\n",
       "      <td>263</td>\n",
       "      <td>68</td>\n",
       "      <td>5543</td>\n",
       "      <td>555</td>\n",
       "      <td>298</td>\n",
       "      <td>83</td>\n",
       "      <td>278</td>\n",
       "    </tr>\n",
       "    <tr>\n",
       "      <th>1</th>\n",
       "      <td>07-04-2014</td>\n",
       "      <td>257</td>\n",
       "      <td>68</td>\n",
       "      <td>458</td>\n",
       "      <td>276</td>\n",
       "      <td>70</td>\n",
       "      <td>5728</td>\n",
       "      <td>610</td>\n",
       "      <td>279</td>\n",
       "      <td>84</td>\n",
       "      <td>303</td>\n",
       "    </tr>\n",
       "    <tr>\n",
       "      <th>2</th>\n",
       "      <td>14-04-2014</td>\n",
       "      <td>254</td>\n",
       "      <td>68</td>\n",
       "      <td>454</td>\n",
       "      <td>270</td>\n",
       "      <td>68</td>\n",
       "      <td>5649</td>\n",
       "      <td>607</td>\n",
       "      <td>279</td>\n",
       "      <td>83</td>\n",
       "      <td>280</td>\n",
       "    </tr>\n",
       "    <tr>\n",
       "      <th>3</th>\n",
       "      <td>21-04-2014</td>\n",
       "      <td>253</td>\n",
       "      <td>68</td>\n",
       "      <td>488</td>\n",
       "      <td>283</td>\n",
       "      <td>68</td>\n",
       "      <td>5692</td>\n",
       "      <td>604</td>\n",
       "      <td>274</td>\n",
       "      <td>83</td>\n",
       "      <td>282</td>\n",
       "    </tr>\n",
       "    <tr>\n",
       "      <th>4</th>\n",
       "      <td>28-04-2014</td>\n",
       "      <td>256</td>\n",
       "      <td>65</td>\n",
       "      <td>482</td>\n",
       "      <td>282</td>\n",
       "      <td>63</td>\n",
       "      <td>5582</td>\n",
       "      <td>611</td>\n",
       "      <td>238</td>\n",
       "      <td>79</td>\n",
       "      <td>243</td>\n",
       "    </tr>\n",
       "  </tbody>\n",
       "</table>\n",
       "</div>"
      ],
      "text/plain": [
       "         Date  Infosys  Indian_Hotel  Mahindra_&_Mahindra  Axis_Bank  SAIL  \\\n",
       "0  31-03-2014      264            69                  455        263    68   \n",
       "1  07-04-2014      257            68                  458        276    70   \n",
       "2  14-04-2014      254            68                  454        270    68   \n",
       "3  21-04-2014      253            68                  488        283    68   \n",
       "4  28-04-2014      256            65                  482        282    63   \n",
       "\n",
       "   Shree_Cement  Sun_Pharma  Jindal_Steel  Idea_Vodafone  Jet_Airways  \n",
       "0          5543         555           298             83          278  \n",
       "1          5728         610           279             84          303  \n",
       "2          5649         607           279             83          280  \n",
       "3          5692         604           274             83          282  \n",
       "4          5582         611           238             79          243  "
      ]
     },
     "execution_count": 9,
     "metadata": {},
     "output_type": "execute_result"
    }
   ],
   "source": [
    "df.head()"
   ]
  },
  {
   "cell_type": "code",
   "execution_count": 10,
   "id": "ab944e5b",
   "metadata": {},
   "outputs": [
    {
     "data": {
      "text/html": [
       "<div>\n",
       "<style scoped>\n",
       "    .dataframe tbody tr th:only-of-type {\n",
       "        vertical-align: middle;\n",
       "    }\n",
       "\n",
       "    .dataframe tbody tr th {\n",
       "        vertical-align: top;\n",
       "    }\n",
       "\n",
       "    .dataframe thead th {\n",
       "        text-align: right;\n",
       "    }\n",
       "</style>\n",
       "<table border=\"1\" class=\"dataframe\">\n",
       "  <thead>\n",
       "    <tr style=\"text-align: right;\">\n",
       "      <th></th>\n",
       "      <th>Infosys</th>\n",
       "      <th>Indian_Hotel</th>\n",
       "      <th>Mahindra_&amp;_Mahindra</th>\n",
       "      <th>Axis_Bank</th>\n",
       "      <th>SAIL</th>\n",
       "      <th>Shree_Cement</th>\n",
       "      <th>Sun_Pharma</th>\n",
       "      <th>Jindal_Steel</th>\n",
       "      <th>Idea_Vodafone</th>\n",
       "      <th>Jet_Airways</th>\n",
       "    </tr>\n",
       "  </thead>\n",
       "  <tbody>\n",
       "    <tr>\n",
       "      <th>count</th>\n",
       "      <td>314.000000</td>\n",
       "      <td>314.000000</td>\n",
       "      <td>314.000000</td>\n",
       "      <td>314.000000</td>\n",
       "      <td>314.000000</td>\n",
       "      <td>314.000000</td>\n",
       "      <td>314.000000</td>\n",
       "      <td>314.000000</td>\n",
       "      <td>314.000000</td>\n",
       "      <td>314.000000</td>\n",
       "    </tr>\n",
       "    <tr>\n",
       "      <th>mean</th>\n",
       "      <td>511.340764</td>\n",
       "      <td>114.560510</td>\n",
       "      <td>636.678344</td>\n",
       "      <td>540.742038</td>\n",
       "      <td>59.095541</td>\n",
       "      <td>14806.410828</td>\n",
       "      <td>633.468153</td>\n",
       "      <td>147.627389</td>\n",
       "      <td>53.713376</td>\n",
       "      <td>372.659236</td>\n",
       "    </tr>\n",
       "    <tr>\n",
       "      <th>std</th>\n",
       "      <td>135.952051</td>\n",
       "      <td>22.509732</td>\n",
       "      <td>102.879975</td>\n",
       "      <td>115.835569</td>\n",
       "      <td>15.810493</td>\n",
       "      <td>4288.275085</td>\n",
       "      <td>171.855893</td>\n",
       "      <td>65.879195</td>\n",
       "      <td>31.248985</td>\n",
       "      <td>202.262668</td>\n",
       "    </tr>\n",
       "    <tr>\n",
       "      <th>min</th>\n",
       "      <td>234.000000</td>\n",
       "      <td>64.000000</td>\n",
       "      <td>284.000000</td>\n",
       "      <td>263.000000</td>\n",
       "      <td>21.000000</td>\n",
       "      <td>5543.000000</td>\n",
       "      <td>338.000000</td>\n",
       "      <td>53.000000</td>\n",
       "      <td>3.000000</td>\n",
       "      <td>14.000000</td>\n",
       "    </tr>\n",
       "    <tr>\n",
       "      <th>25%</th>\n",
       "      <td>424.000000</td>\n",
       "      <td>96.000000</td>\n",
       "      <td>572.000000</td>\n",
       "      <td>470.500000</td>\n",
       "      <td>47.000000</td>\n",
       "      <td>10952.250000</td>\n",
       "      <td>478.500000</td>\n",
       "      <td>88.250000</td>\n",
       "      <td>25.250000</td>\n",
       "      <td>243.250000</td>\n",
       "    </tr>\n",
       "    <tr>\n",
       "      <th>50%</th>\n",
       "      <td>466.500000</td>\n",
       "      <td>115.000000</td>\n",
       "      <td>625.000000</td>\n",
       "      <td>528.000000</td>\n",
       "      <td>57.000000</td>\n",
       "      <td>16018.500000</td>\n",
       "      <td>614.000000</td>\n",
       "      <td>142.500000</td>\n",
       "      <td>53.000000</td>\n",
       "      <td>376.000000</td>\n",
       "    </tr>\n",
       "    <tr>\n",
       "      <th>75%</th>\n",
       "      <td>630.750000</td>\n",
       "      <td>134.000000</td>\n",
       "      <td>678.000000</td>\n",
       "      <td>605.250000</td>\n",
       "      <td>71.750000</td>\n",
       "      <td>17773.250000</td>\n",
       "      <td>785.000000</td>\n",
       "      <td>182.750000</td>\n",
       "      <td>82.000000</td>\n",
       "      <td>534.000000</td>\n",
       "    </tr>\n",
       "    <tr>\n",
       "      <th>max</th>\n",
       "      <td>810.000000</td>\n",
       "      <td>157.000000</td>\n",
       "      <td>956.000000</td>\n",
       "      <td>808.000000</td>\n",
       "      <td>104.000000</td>\n",
       "      <td>24806.000000</td>\n",
       "      <td>1089.000000</td>\n",
       "      <td>338.000000</td>\n",
       "      <td>117.000000</td>\n",
       "      <td>871.000000</td>\n",
       "    </tr>\n",
       "  </tbody>\n",
       "</table>\n",
       "</div>"
      ],
      "text/plain": [
       "          Infosys  Indian_Hotel  Mahindra_&_Mahindra   Axis_Bank        SAIL  \\\n",
       "count  314.000000    314.000000           314.000000  314.000000  314.000000   \n",
       "mean   511.340764    114.560510           636.678344  540.742038   59.095541   \n",
       "std    135.952051     22.509732           102.879975  115.835569   15.810493   \n",
       "min    234.000000     64.000000           284.000000  263.000000   21.000000   \n",
       "25%    424.000000     96.000000           572.000000  470.500000   47.000000   \n",
       "50%    466.500000    115.000000           625.000000  528.000000   57.000000   \n",
       "75%    630.750000    134.000000           678.000000  605.250000   71.750000   \n",
       "max    810.000000    157.000000           956.000000  808.000000  104.000000   \n",
       "\n",
       "       Shree_Cement   Sun_Pharma  Jindal_Steel  Idea_Vodafone  Jet_Airways  \n",
       "count    314.000000   314.000000    314.000000     314.000000   314.000000  \n",
       "mean   14806.410828   633.468153    147.627389      53.713376   372.659236  \n",
       "std     4288.275085   171.855893     65.879195      31.248985   202.262668  \n",
       "min     5543.000000   338.000000     53.000000       3.000000    14.000000  \n",
       "25%    10952.250000   478.500000     88.250000      25.250000   243.250000  \n",
       "50%    16018.500000   614.000000    142.500000      53.000000   376.000000  \n",
       "75%    17773.250000   785.000000    182.750000      82.000000   534.000000  \n",
       "max    24806.000000  1089.000000    338.000000     117.000000   871.000000  "
      ]
     },
     "execution_count": 10,
     "metadata": {},
     "output_type": "execute_result"
    }
   ],
   "source": [
    "df.describe()"
   ]
  },
  {
   "cell_type": "markdown",
   "id": "fe8fa937",
   "metadata": {},
   "source": [
    "### 2.1 Draw Stock Price Graph(Stock Price vs Time) for any 2 given stocks with inference"
   ]
  },
  {
   "cell_type": "code",
   "execution_count": 11,
   "id": "a607f885",
   "metadata": {},
   "outputs": [
    {
     "data": {
      "image/png": "[encoded data removed]",
      "text/plain": [
       "<Figure size 432x288 with 1 Axes>"
      ]
     },
     "metadata": {
      "needs_background": "light"
     },
     "output_type": "display_data"
    }
   ],
   "source": [
    "#plt.figure(figsize = (10, 8))\n",
    "df['Date'] = [pd.to_datetime(d) for d in df['Date']]\n",
    "plt.scatter(df['Date'], df['Idea_Vodafone'], edgecolors='r', color = 'pink')\n",
    "plt.xlabel('Year')\n",
    "plt.ylabel('Idea_Vodafone stock price')\n",
    "plt.title('Idea_Vodafone stock price over the years')\n",
    "plt.show()"
   ]
  },
  {
   "cell_type": "code",
   "execution_count": 12,
   "id": "c39b7dea",
   "metadata": {},
   "outputs": [
    {
     "data": {
      "image/png": "[encoded data removed]",
      "text/plain": [
       "<Figure size 432x288 with 1 Axes>"
      ]
     },
     "metadata": {
      "needs_background": "light"
     },
     "output_type": "display_data"
    }
   ],
   "source": [
    "#plt.figure(figsize = (10, 8))\n",
    "df['Date'] = [pd.to_datetime(d) for d in df['Date']]\n",
    "plt.scatter(df['Date'], df['Infosys'], edgecolors='b', color = 'lightblue')\n",
    "plt.xlabel('Year')\n",
    "plt.ylabel('Infosys stock price')\n",
    "plt.title('Infosys stock price over the years')\n",
    "plt.show()"
   ]
  },
  {
   "cell_type": "code",
   "execution_count": 13,
   "id": "0ada9cbb",
   "metadata": {},
   "outputs": [
    {
     "data": {
      "image/png": "[encoded data removed]",
      "text/plain": [
       "<Figure size 432x288 with 1 Axes>"
      ]
     },
     "metadata": {
      "needs_background": "light"
     },
     "output_type": "display_data"
    }
   ],
   "source": [
    "#plt.figure(figsize = (10, 8))\n",
    "df['Date'] = [pd.to_datetime(d) for d in df['Date']]\n",
    "plt.scatter(df['Date'], df['Jet_Airways'], edgecolors='darkgreen', color = 'lightgreen')\n",
    "plt.xlabel('Year')\n",
    "plt.ylabel('Jet_Airways stock price')\n",
    "plt.title('Jet_Airways stock price over the years')\n",
    "plt.show()"
   ]
  },
  {
   "cell_type": "code",
   "execution_count": 14,
   "id": "f9bf82cf",
   "metadata": {},
   "outputs": [
    {
     "data": {
      "image/png": "[encoded data removed]",
      "text/plain": [
       "<Figure size 432x288 with 1 Axes>"
      ]
     },
     "metadata": {
      "needs_background": "light"
     },
     "output_type": "display_data"
    }
   ],
   "source": [
    "#plt.figure(figsize = (10, 8))\n",
    "df['Date'] = [pd.to_datetime(d) for d in df['Date']]\n",
    "plt.scatter(df['Date'], df['Shree_Cement'], edgecolors='r')\n",
    "plt.xlabel('Year')\n",
    "plt.ylabel('Shree_Cement stock price')\n",
    "plt.title('Shree_Cement stock price over the years')\n",
    "plt.show()"
   ]
  },
  {
   "cell_type": "markdown",
   "id": "b04df896",
   "metadata": {},
   "source": [
    "### 2.2 Calculate Returns for all stocks with inference"
   ]
  },
  {
   "cell_type": "code",
   "execution_count": 15,
   "id": "eeba3d36",
   "metadata": {},
   "outputs": [],
   "source": [
    "stock_returns = np.log(df.drop(['Date','Date'],axis=1)).diff(axis = 0, periods =1)"
   ]
  },
  {
   "cell_type": "code",
   "execution_count": 16,
   "id": "09c044f6",
   "metadata": {},
   "outputs": [
    {
     "data": {
      "text/plain": [
       "(314, 10)"
      ]
     },
     "execution_count": 16,
     "metadata": {},
     "output_type": "execute_result"
    }
   ],
   "source": [
    "stock_returns.shape"
   ]
  },
  {
   "cell_type": "code",
   "execution_count": 17,
   "id": "53f01922",
   "metadata": {},
   "outputs": [
    {
     "data": {
      "text/html": [
       "<div>\n",
       "<style scoped>\n",
       "    .dataframe tbody tr th:only-of-type {\n",
       "        vertical-align: middle;\n",
       "    }\n",
       "\n",
       "    .dataframe tbody tr th {\n",
       "        vertical-align: top;\n",
       "    }\n",
       "\n",
       "    .dataframe thead th {\n",
       "        text-align: right;\n",
       "    }\n",
       "</style>\n",
       "<table border=\"1\" class=\"dataframe\">\n",
       "  <thead>\n",
       "    <tr style=\"text-align: right;\">\n",
       "      <th></th>\n",
       "      <th>Infosys</th>\n",
       "      <th>Indian_Hotel</th>\n",
       "      <th>Mahindra_&amp;_Mahindra</th>\n",
       "      <th>Axis_Bank</th>\n",
       "      <th>SAIL</th>\n",
       "      <th>Shree_Cement</th>\n",
       "      <th>Sun_Pharma</th>\n",
       "      <th>Jindal_Steel</th>\n",
       "      <th>Idea_Vodafone</th>\n",
       "      <th>Jet_Airways</th>\n",
       "    </tr>\n",
       "  </thead>\n",
       "  <tbody>\n",
       "    <tr>\n",
       "      <th>0</th>\n",
       "      <td>NaN</td>\n",
       "      <td>NaN</td>\n",
       "      <td>NaN</td>\n",
       "      <td>NaN</td>\n",
       "      <td>NaN</td>\n",
       "      <td>NaN</td>\n",
       "      <td>NaN</td>\n",
       "      <td>NaN</td>\n",
       "      <td>NaN</td>\n",
       "      <td>NaN</td>\n",
       "    </tr>\n",
       "    <tr>\n",
       "      <th>1</th>\n",
       "      <td>-0.026873</td>\n",
       "      <td>-0.014599</td>\n",
       "      <td>0.006572</td>\n",
       "      <td>0.048247</td>\n",
       "      <td>0.028988</td>\n",
       "      <td>0.032831</td>\n",
       "      <td>0.094491</td>\n",
       "      <td>-0.065882</td>\n",
       "      <td>0.011976</td>\n",
       "      <td>0.086112</td>\n",
       "    </tr>\n",
       "    <tr>\n",
       "      <th>2</th>\n",
       "      <td>-0.011742</td>\n",
       "      <td>0.000000</td>\n",
       "      <td>-0.008772</td>\n",
       "      <td>-0.021979</td>\n",
       "      <td>-0.028988</td>\n",
       "      <td>-0.013888</td>\n",
       "      <td>-0.004930</td>\n",
       "      <td>0.000000</td>\n",
       "      <td>-0.011976</td>\n",
       "      <td>-0.078943</td>\n",
       "    </tr>\n",
       "    <tr>\n",
       "      <th>3</th>\n",
       "      <td>-0.003945</td>\n",
       "      <td>0.000000</td>\n",
       "      <td>0.072218</td>\n",
       "      <td>0.047025</td>\n",
       "      <td>0.000000</td>\n",
       "      <td>0.007583</td>\n",
       "      <td>-0.004955</td>\n",
       "      <td>-0.018084</td>\n",
       "      <td>0.000000</td>\n",
       "      <td>0.007117</td>\n",
       "    </tr>\n",
       "    <tr>\n",
       "      <th>4</th>\n",
       "      <td>0.011788</td>\n",
       "      <td>-0.045120</td>\n",
       "      <td>-0.012371</td>\n",
       "      <td>-0.003540</td>\n",
       "      <td>-0.076373</td>\n",
       "      <td>-0.019515</td>\n",
       "      <td>0.011523</td>\n",
       "      <td>-0.140857</td>\n",
       "      <td>-0.049393</td>\n",
       "      <td>-0.148846</td>\n",
       "    </tr>\n",
       "  </tbody>\n",
       "</table>\n",
       "</div>"
      ],
      "text/plain": [
       "    Infosys  Indian_Hotel  Mahindra_&_Mahindra  Axis_Bank      SAIL  \\\n",
       "0       NaN           NaN                  NaN        NaN       NaN   \n",
       "1 -0.026873     -0.014599             0.006572   0.048247  0.028988   \n",
       "2 -0.011742      0.000000            -0.008772  -0.021979 -0.028988   \n",
       "3 -0.003945      0.000000             0.072218   0.047025  0.000000   \n",
       "4  0.011788     -0.045120            -0.012371  -0.003540 -0.076373   \n",
       "\n",
       "   Shree_Cement  Sun_Pharma  Jindal_Steel  Idea_Vodafone  Jet_Airways  \n",
       "0           NaN         NaN           NaN            NaN          NaN  \n",
       "1      0.032831    0.094491     -0.065882       0.011976     0.086112  \n",
       "2     -0.013888   -0.004930      0.000000      -0.011976    -0.078943  \n",
       "3      0.007583   -0.004955     -0.018084       0.000000     0.007117  \n",
       "4     -0.019515    0.011523     -0.140857      -0.049393    -0.148846  "
      ]
     },
     "execution_count": 17,
     "metadata": {},
     "output_type": "execute_result"
    }
   ],
   "source": [
    "stock_returns.head()"
   ]
  },
  {
   "cell_type": "code",
   "execution_count": 28,
   "id": "0d791651",
   "metadata": {},
   "outputs": [
    {
     "data": {
      "text/html": [
       "<div>\n",
       "<style scoped>\n",
       "    .dataframe tbody tr th:only-of-type {\n",
       "        vertical-align: middle;\n",
       "    }\n",
       "\n",
       "    .dataframe tbody tr th {\n",
       "        vertical-align: top;\n",
       "    }\n",
       "\n",
       "    .dataframe thead th {\n",
       "        text-align: right;\n",
       "    }\n",
       "</style>\n",
       "<table border=\"1\" class=\"dataframe\">\n",
       "  <thead>\n",
       "    <tr style=\"text-align: right;\">\n",
       "      <th></th>\n",
       "      <th>Infosys</th>\n",
       "      <th>Indian_Hotel</th>\n",
       "      <th>Mahindra_&amp;_Mahindra</th>\n",
       "      <th>Axis_Bank</th>\n",
       "      <th>SAIL</th>\n",
       "      <th>Shree_Cement</th>\n",
       "      <th>Sun_Pharma</th>\n",
       "      <th>Jindal_Steel</th>\n",
       "      <th>Idea_Vodafone</th>\n",
       "      <th>Jet_Airways</th>\n",
       "    </tr>\n",
       "  </thead>\n",
       "  <tbody>\n",
       "    <tr>\n",
       "      <th>count</th>\n",
       "      <td>313.000000</td>\n",
       "      <td>313.000000</td>\n",
       "      <td>313.000000</td>\n",
       "      <td>313.000000</td>\n",
       "      <td>313.000000</td>\n",
       "      <td>313.000000</td>\n",
       "      <td>313.000000</td>\n",
       "      <td>313.000000</td>\n",
       "      <td>313.000000</td>\n",
       "      <td>313.000000</td>\n",
       "    </tr>\n",
       "    <tr>\n",
       "      <th>mean</th>\n",
       "      <td>0.002794</td>\n",
       "      <td>0.000266</td>\n",
       "      <td>-0.001506</td>\n",
       "      <td>0.001167</td>\n",
       "      <td>-0.003463</td>\n",
       "      <td>0.003681</td>\n",
       "      <td>-0.001455</td>\n",
       "      <td>-0.004123</td>\n",
       "      <td>-0.010608</td>\n",
       "      <td>-0.009548</td>\n",
       "    </tr>\n",
       "    <tr>\n",
       "      <th>std</th>\n",
       "      <td>0.035070</td>\n",
       "      <td>0.047131</td>\n",
       "      <td>0.040169</td>\n",
       "      <td>0.045828</td>\n",
       "      <td>0.062188</td>\n",
       "      <td>0.039917</td>\n",
       "      <td>0.045033</td>\n",
       "      <td>0.075108</td>\n",
       "      <td>0.104315</td>\n",
       "      <td>0.097972</td>\n",
       "    </tr>\n",
       "    <tr>\n",
       "      <th>min</th>\n",
       "      <td>-0.167300</td>\n",
       "      <td>-0.236389</td>\n",
       "      <td>-0.285343</td>\n",
       "      <td>-0.284757</td>\n",
       "      <td>-0.251314</td>\n",
       "      <td>-0.129215</td>\n",
       "      <td>-0.179855</td>\n",
       "      <td>-0.283768</td>\n",
       "      <td>-0.693147</td>\n",
       "      <td>-0.458575</td>\n",
       "    </tr>\n",
       "    <tr>\n",
       "      <th>25%</th>\n",
       "      <td>-0.014514</td>\n",
       "      <td>-0.023530</td>\n",
       "      <td>-0.020884</td>\n",
       "      <td>-0.022473</td>\n",
       "      <td>-0.040822</td>\n",
       "      <td>-0.019546</td>\n",
       "      <td>-0.020699</td>\n",
       "      <td>-0.049700</td>\n",
       "      <td>-0.045120</td>\n",
       "      <td>-0.052644</td>\n",
       "    </tr>\n",
       "    <tr>\n",
       "      <th>50%</th>\n",
       "      <td>0.004376</td>\n",
       "      <td>0.000000</td>\n",
       "      <td>0.001526</td>\n",
       "      <td>0.001614</td>\n",
       "      <td>0.000000</td>\n",
       "      <td>0.003173</td>\n",
       "      <td>0.001530</td>\n",
       "      <td>0.000000</td>\n",
       "      <td>0.000000</td>\n",
       "      <td>-0.005780</td>\n",
       "    </tr>\n",
       "    <tr>\n",
       "      <th>75%</th>\n",
       "      <td>0.024553</td>\n",
       "      <td>0.027909</td>\n",
       "      <td>0.019894</td>\n",
       "      <td>0.028522</td>\n",
       "      <td>0.032790</td>\n",
       "      <td>0.029873</td>\n",
       "      <td>0.023257</td>\n",
       "      <td>0.037179</td>\n",
       "      <td>0.024391</td>\n",
       "      <td>0.036368</td>\n",
       "    </tr>\n",
       "    <tr>\n",
       "      <th>max</th>\n",
       "      <td>0.135666</td>\n",
       "      <td>0.199333</td>\n",
       "      <td>0.089407</td>\n",
       "      <td>0.127461</td>\n",
       "      <td>0.309005</td>\n",
       "      <td>0.152329</td>\n",
       "      <td>0.166604</td>\n",
       "      <td>0.243978</td>\n",
       "      <td>0.693147</td>\n",
       "      <td>0.300249</td>\n",
       "    </tr>\n",
       "  </tbody>\n",
       "</table>\n",
       "</div>"
      ],
      "text/plain": [
       "          Infosys  Indian_Hotel  Mahindra_&_Mahindra   Axis_Bank        SAIL  \\\n",
       "count  313.000000    313.000000           313.000000  313.000000  313.000000   \n",
       "mean     0.002794      0.000266            -0.001506    0.001167   -0.003463   \n",
       "std      0.035070      0.047131             0.040169    0.045828    0.062188   \n",
       "min     -0.167300     -0.236389            -0.285343   -0.284757   -0.251314   \n",
       "25%     -0.014514     -0.023530            -0.020884   -0.022473   -0.040822   \n",
       "50%      0.004376      0.000000             0.001526    0.001614    0.000000   \n",
       "75%      0.024553      0.027909             0.019894    0.028522    0.032790   \n",
       "max      0.135666      0.199333             0.089407    0.127461    0.309005   \n",
       "\n",
       "       Shree_Cement  Sun_Pharma  Jindal_Steel  Idea_Vodafone  Jet_Airways  \n",
       "count    313.000000  313.000000    313.000000     313.000000   313.000000  \n",
       "mean       0.003681   -0.001455     -0.004123      -0.010608    -0.009548  \n",
       "std        0.039917    0.045033      0.075108       0.104315     0.097972  \n",
       "min       -0.129215   -0.179855     -0.283768      -0.693147    -0.458575  \n",
       "25%       -0.019546   -0.020699     -0.049700      -0.045120    -0.052644  \n",
       "50%        0.003173    0.001530      0.000000       0.000000    -0.005780  \n",
       "75%        0.029873    0.023257      0.037179       0.024391     0.036368  \n",
       "max        0.152329    0.166604      0.243978       0.693147     0.300249  "
      ]
     },
     "execution_count": 28,
     "metadata": {},
     "output_type": "execute_result"
    }
   ],
   "source": [
    "stock_returns.describe()"
   ]
  },
  {
   "cell_type": "markdown",
   "id": "141aba88",
   "metadata": {},
   "source": [
    "### 2.3 Calculate Stock Means and Standard Deviation for all stocks with inference"
   ]
  },
  {
   "cell_type": "code",
   "execution_count": 30,
   "id": "582ec88c",
   "metadata": {},
   "outputs": [
    {
     "data": {
      "text/plain": [
       "Shree_Cement           0.003681\n",
       "Infosys                0.002794\n",
       "Axis_Bank              0.001167\n",
       "Indian_Hotel           0.000266\n",
       "Sun_Pharma            -0.001455\n",
       "Mahindra_&_Mahindra   -0.001506\n",
       "SAIL                  -0.003463\n",
       "Jindal_Steel          -0.004123\n",
       "Jet_Airways           -0.009548\n",
       "Idea_Vodafone         -0.010608\n",
       "dtype: float64"
      ]
     },
     "execution_count": 30,
     "metadata": {},
     "output_type": "execute_result"
    }
   ],
   "source": [
    "stock_means = stock_returns.mean(axis = 0)\n",
    "stock_means.sort_values(ascending=False)"
   ]
  },
  {
   "cell_type": "code",
   "execution_count": 31,
   "id": "bc39d1a2",
   "metadata": {},
   "outputs": [
    {
     "data": {
      "text/plain": [
       "Idea_Vodafone          0.104315\n",
       "Jet_Airways            0.097972\n",
       "Jindal_Steel           0.075108\n",
       "SAIL                   0.062188\n",
       "Indian_Hotel           0.047131\n",
       "Axis_Bank              0.045828\n",
       "Sun_Pharma             0.045033\n",
       "Mahindra_&_Mahindra    0.040169\n",
       "Shree_Cement           0.039917\n",
       "Infosys                0.035070\n",
       "dtype: float64"
      ]
     },
     "execution_count": 31,
     "metadata": {},
     "output_type": "execute_result"
    }
   ],
   "source": [
    "stock_sd = stock_returns.std(axis = 0)\n",
    "stock_sd.sort_values(ascending=False)"
   ]
  },
  {
   "cell_type": "markdown",
   "id": "5414badd",
   "metadata": {},
   "source": [
    "### 2.4 Draw a plot of Stock Means vs Standard Deviation and state your inference"
   ]
  },
  {
   "cell_type": "code",
   "execution_count": 20,
   "id": "a0d956e4",
   "metadata": {},
   "outputs": [
    {
     "data": {
      "text/html": [
       "<div>\n",
       "<style scoped>\n",
       "    .dataframe tbody tr th:only-of-type {\n",
       "        vertical-align: middle;\n",
       "    }\n",
       "\n",
       "    .dataframe tbody tr th {\n",
       "        vertical-align: top;\n",
       "    }\n",
       "\n",
       "    .dataframe thead th {\n",
       "        text-align: right;\n",
       "    }\n",
       "</style>\n",
       "<table border=\"1\" class=\"dataframe\">\n",
       "  <thead>\n",
       "    <tr style=\"text-align: right;\">\n",
       "      <th></th>\n",
       "      <th>Average</th>\n",
       "      <th>Volatility</th>\n",
       "    </tr>\n",
       "  </thead>\n",
       "  <tbody>\n",
       "    <tr>\n",
       "      <th>Infosys</th>\n",
       "      <td>0.002794</td>\n",
       "      <td>0.035070</td>\n",
       "    </tr>\n",
       "    <tr>\n",
       "      <th>Indian_Hotel</th>\n",
       "      <td>0.000266</td>\n",
       "      <td>0.047131</td>\n",
       "    </tr>\n",
       "    <tr>\n",
       "      <th>Mahindra_&amp;_Mahindra</th>\n",
       "      <td>-0.001506</td>\n",
       "      <td>0.040169</td>\n",
       "    </tr>\n",
       "    <tr>\n",
       "      <th>Axis_Bank</th>\n",
       "      <td>0.001167</td>\n",
       "      <td>0.045828</td>\n",
       "    </tr>\n",
       "    <tr>\n",
       "      <th>SAIL</th>\n",
       "      <td>-0.003463</td>\n",
       "      <td>0.062188</td>\n",
       "    </tr>\n",
       "    <tr>\n",
       "      <th>Shree_Cement</th>\n",
       "      <td>0.003681</td>\n",
       "      <td>0.039917</td>\n",
       "    </tr>\n",
       "    <tr>\n",
       "      <th>Sun_Pharma</th>\n",
       "      <td>-0.001455</td>\n",
       "      <td>0.045033</td>\n",
       "    </tr>\n",
       "    <tr>\n",
       "      <th>Jindal_Steel</th>\n",
       "      <td>-0.004123</td>\n",
       "      <td>0.075108</td>\n",
       "    </tr>\n",
       "    <tr>\n",
       "      <th>Idea_Vodafone</th>\n",
       "      <td>-0.010608</td>\n",
       "      <td>0.104315</td>\n",
       "    </tr>\n",
       "    <tr>\n",
       "      <th>Jet_Airways</th>\n",
       "      <td>-0.009548</td>\n",
       "      <td>0.097972</td>\n",
       "    </tr>\n",
       "  </tbody>\n",
       "</table>\n",
       "</div>"
      ],
      "text/plain": [
       "                      Average  Volatility\n",
       "Infosys              0.002794    0.035070\n",
       "Indian_Hotel         0.000266    0.047131\n",
       "Mahindra_&_Mahindra -0.001506    0.040169\n",
       "Axis_Bank            0.001167    0.045828\n",
       "SAIL                -0.003463    0.062188\n",
       "Shree_Cement         0.003681    0.039917\n",
       "Sun_Pharma          -0.001455    0.045033\n",
       "Jindal_Steel        -0.004123    0.075108\n",
       "Idea_Vodafone       -0.010608    0.104315\n",
       "Jet_Airways         -0.009548    0.097972"
      ]
     },
     "execution_count": 20,
     "metadata": {},
     "output_type": "execute_result"
    }
   ],
   "source": [
    "df = pd.DataFrame({'Average':stock_means, 'Volatility': stock_sd})\n",
    "df"
   ]
  },
  {
   "cell_type": "code",
   "execution_count": 21,
   "id": "9f55a6c4",
   "metadata": {},
   "outputs": [
    {
     "data": {
      "image/png": "[encoded data removed]",
      "text/plain": [
       "<Figure size 432x288 with 1 Axes>"
      ]
     },
     "metadata": {
      "needs_background": "light"
     },
     "output_type": "display_data"
    }
   ],
   "source": [
    "#plt.scatter(stock_sd, stock_means, edgecolors='r')\n",
    "plot = sns.scatterplot(df['Volatility'], df['Average'])\n",
    "plot.axvline(x=0.020257,linestyle='--', color = \"green\")\n",
    "plot.axhline(y=0.000683,linestyle='--', color = \"green\")\n",
    "plt.show()"
   ]
  },
  {
   "cell_type": "code",
   "execution_count": 22,
   "id": "e308baaf",
   "metadata": {},
   "outputs": [
    {
     "data": {
      "text/plain": [
       "<Figure size 720x576 with 0 Axes>"
      ]
     },
     "metadata": {},
     "output_type": "display_data"
    },
    {
     "data": {
      "image/png": "[encoded data removed]",
      "text/plain": [
       "<Figure size 432x288 with 1 Axes>"
      ]
     },
     "metadata": {
      "needs_background": "light"
     },
     "output_type": "display_data"
    }
   ],
   "source": [
    "n = ['Infosys', 'Indian_Hotel', 'Mahindra_&_Mahindra', 'Axis_Bank', 'SAIL', 'Shree_Cement', 'Sun_Pharma', 'Jindal_Steel', 'Idea_Vodafone', 'Jet_Airways']\n",
    "plt.figure(figsize = (10, 8))\n",
    "fig, ax = plt.subplots()\n",
    "ax.scatter(stock_means, stock_sd)\n",
    "for i, txt in enumerate(n):\n",
    " ax.annotate(txt, (stock_means[i], stock_sd[i]))"
   ]
  }
 ],
 "metadata": {
  "kernelspec": {
   "display_name": "Python 3",
   "language": "python",
   "name": "python3"
  },
  "language_info": {
   "codemirror_mode": {
    "name": "ipython",
    "version": 3
   },
   "file_extension": ".py",
   "mimetype": "text/x-python",
   "name": "python",
   "nbconvert_exporter": "python",
   "pygments_lexer": "ipython3",
   "version": "3.8.8"
  }
 },
 "nbformat": 4,
 "nbformat_minor": 5
}
